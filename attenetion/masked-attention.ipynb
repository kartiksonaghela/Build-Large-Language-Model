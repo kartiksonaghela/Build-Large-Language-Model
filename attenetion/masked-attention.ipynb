{
 "cells": [
  {
   "cell_type": "code",
   "execution_count": null,
   "metadata": {},
   "outputs": [
    {
     "name": "stdout",
     "output_type": "stream",
     "text": [
      "torch.Size([2, 6, 3])\n"
     ]
    }
   ],
   "source": []
  },
  {
   "cell_type": "code",
   "execution_count": null,
   "metadata": {},
   "outputs": [
    {
     "name": "stdout",
     "output_type": "stream",
     "text": [
      "torch.Size([2, 6, 3])\n"
     ]
    },
    {
     "data": {
      "text/plain": [
       "tensor([[[0.3774, 0.2591, 0.1462],\n",
       "         [0.3732, 0.2517, 0.1517],\n",
       "         [0.3732, 0.2517, 0.1517],\n",
       "         [0.3735, 0.2527, 0.1500],\n",
       "         [0.3738, 0.2526, 0.1514],\n",
       "         [0.3734, 0.2527, 0.1496]],\n",
       "\n",
       "        [[0.3774, 0.2591, 0.1462],\n",
       "         [0.3732, 0.2517, 0.1517],\n",
       "         [0.3732, 0.2517, 0.1517],\n",
       "         [0.3735, 0.2527, 0.1500],\n",
       "         [0.3738, 0.2526, 0.1514],\n",
       "         [0.3734, 0.2527, 0.1496]]], grad_fn=<UnsafeViewBackward0>)"
      ]
     },
     "execution_count": 14,
     "metadata": {},
     "output_type": "execute_result"
    }
   ],
   "source": [
    "import torch\n",
    "import torch.nn as nn\n",
    "\n",
    "inputs=torch.tensor(  [[0.43, 0.15, 0.89], # Your     (x^1)\n",
    "   [0.55, 0.87, 0.66], # journey  (x^2)\n",
    "   [0.57, 0.85, 0.64], # starts   (x^3)\n",
    "   [0.22, 0.58, 0.33], # with     (x^4)\n",
    "   [0.77, 0.25, 0.10], # one      (x^5)\n",
    "   [0.05, 0.80, 0.55]] # step     (x^6)\n",
    ")\n",
    "batch = torch.stack((inputs, inputs), dim=0)\n",
    "print(batch.shape) #\n",
    "class maskedattention(nn.Module):\n",
    "    def __init__(self):\n",
    "        super().__init__()\n",
    "        self.W_query=nn.Linear(3,3,bias=False)\n",
    "        self.W_key=nn.Linear(3,3,bias=False)\n",
    "        self.W_value=nn.Linear(3,3,bias=False)\n",
    "        self.dropout=nn.Dropout(0.5)\n",
    "        self.register_buffer('mask', torch.triu(torch.ones(6, 6), diagonal=1)) # New\n",
    "    def forward(self,inputs):\n",
    "        b,context_length,dim=inputs.shape\n",
    "        key=self.W_key(inputs)\n",
    "        value=self.W_value(inputs)\n",
    "        query=self.W_query(inputs)\n",
    "        attention_score=query@key.transpose(1,2)\n",
    "        attention_score.masked_fill(self.mask.bool()[:context_length,:context_length],-torch.inf)\n",
    "        attn_weights = torch.softmax(\n",
    "            attention_score / key.shape[-1]**0.5, dim=-1\n",
    "        )\n",
    "        attn_weights = self.dropout(attn_weights) # New\n",
    "        context_vector=attn_weights@value\n",
    "        return context_vector\n",
    "maskedAttention=maskedattention()\n",
    "torch.manual_seed(123)\n",
    "maskedAttention(batch)"
   ]
  },
  {
   "cell_type": "code",
   "execution_count": null,
   "metadata": {},
   "outputs": [],
   "source": []
  }
 ],
 "metadata": {
  "kernelspec": {
   "display_name": "LLM",
   "language": "python",
   "name": "python3"
  },
  "language_info": {
   "codemirror_mode": {
    "name": "ipython",
    "version": 3
   },
   "file_extension": ".py",
   "mimetype": "text/x-python",
   "name": "python",
   "nbconvert_exporter": "python",
   "pygments_lexer": "ipython3",
   "version": "3.11.11"
  }
 },
 "nbformat": 4,
 "nbformat_minor": 2
}
