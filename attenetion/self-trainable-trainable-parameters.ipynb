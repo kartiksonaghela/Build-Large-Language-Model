{
 "cells": [
  {
   "cell_type": "code",
   "execution_count": 42,
   "metadata": {},
   "outputs": [],
   "source": [
    "import torch\n",
    "inputs=torch.tensor(  [[0.43, 0.15, 0.89], # Your     (x^1)\n",
    "   [0.55, 0.87, 0.66], # journey  (x^2)\n",
    "   [0.57, 0.85, 0.64], # starts   (x^3)\n",
    "   [0.22, 0.58, 0.33], # with     (x^4)\n",
    "   [0.77, 0.25, 0.10], # one      (x^5)\n",
    "   [0.05, 0.80, 0.55]] # step     (x^6)\n",
    ")"
   ]
  },
  {
   "cell_type": "code",
   "execution_count": 47,
   "metadata": {},
   "outputs": [
    {
     "name": "stdout",
     "output_type": "stream",
     "text": [
      "tensor([[ 0.2633,  0.4277, -0.1353],\n",
      "        [ 0.2641,  0.4296, -0.1350],\n",
      "        [ 0.2641,  0.4296, -0.1350],\n",
      "        [ 0.2647,  0.4316, -0.1381],\n",
      "        [ 0.2642,  0.4303, -0.1373],\n",
      "        [ 0.2648,  0.4316, -0.1375]], grad_fn=<MmBackward0>)\n"
     ]
    }
   ],
   "source": [
    "import torch.nn as nn\n",
    "class selfAttention_v1(nn.Module):\n",
    "    def __init__(self):\n",
    "        super().__init__()\n",
    "        self.W_query=nn.Linear(3,3,bias=False)\n",
    "        self.W_key=nn.Linear(3,3,bias=False)\n",
    "        self.W_value=nn.Linear(3,3,bias=False)\n",
    "    def forward(self,x):\n",
    "        query=self.W_query(inputs)\n",
    "        key=self.W_key(inputs)\n",
    "        value=self.W_value(inputs)\n",
    "        attention_score=query@key.T\n",
    "        attention_score_normalize=torch.softmax(attention_score/3**0.5,dim=1)\n",
    "        context_vector=attention_score_normalize@value\n",
    "        return context_vector\n",
    "torch.manual_seed(123)\n",
    "sa_v1 = selfAttention_v1()\n",
    "print(sa_v1(inputs))\n",
    "        \n",
    "        "
   ]
  },
  {
   "cell_type": "code",
   "execution_count": null,
   "metadata": {},
   "outputs": [],
   "source": []
  }
 ],
 "metadata": {
  "kernelspec": {
   "display_name": "LLM",
   "language": "python",
   "name": "python3"
  },
  "language_info": {
   "codemirror_mode": {
    "name": "ipython",
    "version": 3
   },
   "file_extension": ".py",
   "mimetype": "text/x-python",
   "name": "python",
   "nbconvert_exporter": "python",
   "pygments_lexer": "ipython3",
   "version": "3.11.11"
  }
 },
 "nbformat": 4,
 "nbformat_minor": 2
}
